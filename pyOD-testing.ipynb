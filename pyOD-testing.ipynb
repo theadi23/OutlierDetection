{
 "cells": [
  {
   "cell_type": "code",
   "execution_count": 1,
   "id": "954ef4de",
   "metadata": {},
   "outputs": [
    {
     "name": "stdout",
     "output_type": "stream",
     "text": [
      "Requirement already satisfied: pyOD in /home/ahrnjez/Projects/.venv/lib/python3.12/site-packages (2.0.5)\n",
      "Requirement already satisfied: joblib in /home/ahrnjez/Projects/.venv/lib/python3.12/site-packages (from pyOD) (1.5.1)\n",
      "Requirement already satisfied: matplotlib in /home/ahrnjez/Projects/.venv/lib/python3.12/site-packages (from pyOD) (3.10.3)\n",
      "Requirement already satisfied: numpy>=1.19 in /home/ahrnjez/Projects/.venv/lib/python3.12/site-packages (from pyOD) (2.2.6)\n",
      "Requirement already satisfied: numba>=0.51 in /home/ahrnjez/Projects/.venv/lib/python3.12/site-packages (from pyOD) (0.61.2)\n",
      "Requirement already satisfied: scipy>=1.5.1 in /home/ahrnjez/Projects/.venv/lib/python3.12/site-packages (from pyOD) (1.15.3)\n",
      "Requirement already satisfied: scikit-learn>=0.22.0 in /home/ahrnjez/Projects/.venv/lib/python3.12/site-packages (from pyOD) (1.7.0)\n",
      "Requirement already satisfied: llvmlite<0.45,>=0.44.0dev0 in /home/ahrnjez/Projects/.venv/lib/python3.12/site-packages (from numba>=0.51->pyOD) (0.44.0)\n",
      "Requirement already satisfied: threadpoolctl>=3.1.0 in /home/ahrnjez/Projects/.venv/lib/python3.12/site-packages (from scikit-learn>=0.22.0->pyOD) (3.6.0)\n",
      "Requirement already satisfied: contourpy>=1.0.1 in /home/ahrnjez/Projects/.venv/lib/python3.12/site-packages (from matplotlib->pyOD) (1.3.2)\n",
      "Requirement already satisfied: cycler>=0.10 in /home/ahrnjez/Projects/.venv/lib/python3.12/site-packages (from matplotlib->pyOD) (0.12.1)\n",
      "Requirement already satisfied: fonttools>=4.22.0 in /home/ahrnjez/Projects/.venv/lib/python3.12/site-packages (from matplotlib->pyOD) (4.58.2)\n",
      "Requirement already satisfied: kiwisolver>=1.3.1 in /home/ahrnjez/Projects/.venv/lib/python3.12/site-packages (from matplotlib->pyOD) (1.4.8)\n",
      "Requirement already satisfied: packaging>=20.0 in /home/ahrnjez/Projects/.venv/lib/python3.12/site-packages (from matplotlib->pyOD) (25.0)\n",
      "Requirement already satisfied: pillow>=8 in /home/ahrnjez/Projects/.venv/lib/python3.12/site-packages (from matplotlib->pyOD) (11.2.1)\n",
      "Requirement already satisfied: pyparsing>=2.3.1 in /home/ahrnjez/Projects/.venv/lib/python3.12/site-packages (from matplotlib->pyOD) (3.2.3)\n",
      "Requirement already satisfied: python-dateutil>=2.7 in /home/ahrnjez/Projects/.venv/lib/python3.12/site-packages (from matplotlib->pyOD) (2.9.0.post0)\n",
      "Requirement already satisfied: six>=1.5 in /home/ahrnjez/Projects/.venv/lib/python3.12/site-packages (from python-dateutil>=2.7->matplotlib->pyOD) (1.17.0)\n"
     ]
    }
   ],
   "source": [
    "!pip install pyOD\n",
    "\n",
    "from pyod.models.knn import KNN\n",
    "from pyod.utils.data import generate_data\n",
    "from pyod.utils.data import evaluate_print\n",
    "from pyod.utils.example import visualize"
   ]
  }
 ],
 "metadata": {
  "kernelspec": {
   "display_name": ".venv",
   "language": "python",
   "name": "python3"
  },
  "language_info": {
   "codemirror_mode": {
    "name": "ipython",
    "version": 3
   },
   "file_extension": ".py",
   "mimetype": "text/x-python",
   "name": "python",
   "nbconvert_exporter": "python",
   "pygments_lexer": "ipython3",
   "version": "3.12.3"
  }
 },
 "nbformat": 4,
 "nbformat_minor": 5
}
